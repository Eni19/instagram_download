{
 "cells": [
  {
   "cell_type": "markdown",
   "metadata": {},
   "source": [
    "Importações e Requisitos"
   ]
  },
  {
   "cell_type": "code",
   "execution_count": null,
   "metadata": {
    "vscode": {
     "languageId": "plaintext"
    }
   },
   "outputs": [],
   "source": [
    "from selenium import webdriver\n",
    "from selenium.webdriver.common.by import By\n",
    "from selenium.webdriver.chrome.service import Service\n",
    "from selenium.webdriver.chrome.options import Options\n",
    "from selenium.webdriver.common.keys import Keys\n",
    "from webdriver_manager.chrome import ChromeDriverManager\n",
    "import time\n",
    "import requests\n",
    "import os"
   ]
  },
  {
   "cell_type": "markdown",
   "metadata": {},
   "source": [
    "Setup Inicial e Passar Imagens para uma lista"
   ]
  },
  {
   "cell_type": "code",
   "execution_count": null,
   "metadata": {
    "vscode": {
     "languageId": "plaintext"
    }
   },
   "outputs": [],
   "source": [
    "options = Options()\n",
    "options.add_experimental_option(\"detach\", True)\n",
    "\n",
    "driver = webdriver.Chrome(service=Service(ChromeDriverManager().install()))  # Caminho do driver\n",
    "driver.get(\"https://www.instagram.com/accounts/login/\")\n",
    "\n",
    "time.sleep(5)  # Espera a página carregar\n",
    "\n",
    "# # Login\n",
    "username = driver.find_element(By.NAME, \"username\")  #Procura o elemento na pagina e guarda a posição\n",
    "password = driver.find_element(By.NAME, \"password\")\n",
    "username.send_keys(\"seu_usuario\")\n",
    "password.send_keys(\"sua_senha.\")\n",
    "password.send_keys(Keys.RETURN)\n",
    "\n",
    "time.sleep(5)\n",
    "\n",
    "# # Acessar aba Salvos\n",
    "driver.get(\"https://www.instagram.com/enriquesusin/saved/rpg/17948031698580212/\")\n",
    "\n",
    "time.sleep(5)\n",
    "\n",
    "# Scroll até o final da página para carregar todas as imagens\n",
    "last_height = driver.execute_script(\"return document.body.scrollHeight\")  #descobre a altura da pagina com JS\n",
    "\n",
    "\n",
    "\n",
    "        # Capturar URLs das imagens\n",
    "images = driver.find_elements(By.TAG_NAME, \"img\")  #Procura tudo que tem tag IMG e coloca numa lista\n",
    "image_urls = [img.get_attribute(\"src\") for img in images] #Pega a URL de cada elemento da lista\n",
    "while True:\n",
    "    driver.execute_script(\"window.scrollTo(0, document.body.scrollHeight);\")\n",
    "    time.sleep(7)  # Tempo para carregar novas imagens\n",
    "    new_height = driver.execute_script(\"return document.body.scrollHeight\")\n",
    "\n",
    "    # Capturar URLs das imagens\n",
    "    images = driver.find_elements(By.TAG_NAME, \"img\")  #Procura tudo que tem tag IMG e coloca numa lista\n",
    "    for img in images:\n",
    "        image_urls.append(img.get_attribute(\"src\")) #Pega a URL de cada elemento da lista\n",
    "\n",
    "    if new_height == last_height:  # Se não carregar mais nada, parar\n",
    "        break\n",
    "    last_height = new_height\n",
    "\n",
    "    driver.quit()"
   ]
  },
  {
   "cell_type": "markdown",
   "metadata": {},
   "source": [
    "Passar a Imagens para txt"
   ]
  },
  {
   "cell_type": "code",
   "execution_count": null,
   "metadata": {
    "vscode": {
     "languageId": "plaintext"
    }
   },
   "outputs": [],
   "source": [
    "image_urls = list(set(image_urls))\n",
    "\n",
    "with open(\"urls.txt\", \"w\") as file:\n",
    "    for url in image_urls:\n",
    "                file.write(url + \"\\n\")\n",
    "    print(\"As URLs foram salvas em 'urls.txt'.\")\n"
   ]
  },
  {
   "cell_type": "markdown",
   "metadata": {},
   "source": [
    "Baixar as Imagens do Arquivo Txt"
   ]
  },
  {
   "cell_type": "code",
   "execution_count": null,
   "metadata": {
    "vscode": {
     "languageId": "plaintext"
    }
   },
   "outputs": [],
   "source": [
    "# Criar a pasta para salvar as imagens, se não existir\n",
    "folder_name = \"imagens_salvas\"\n",
    "os.makedirs(folder_name, exist_ok=True)\n",
    "\n",
    "# Ler as URLs do arquivo txt\n",
    "with open(\"urls.txt\", \"r\") as file:\n",
    "    urls = file.readlines()\n",
    "\n",
    "# Baixar cada imagem\n",
    "for i, url in enumerate(urls):\n",
    "    url = url.strip()  # Remover espaços e quebras de linha\n",
    "    if not url:\n",
    "        continue  # Pular linhas vazias\n",
    "\n",
    "    try:\n",
    "        response = requests.get(url, stream=True)\n",
    "        response.raise_for_status()  # Lança um erro se a resposta for ruim (ex: 404)\n",
    "\n",
    "        # Criar nome do arquivo (ex: imagem_1.jpg, imagem_2.jpg, ...)\n",
    "        filename = os.path.join(folder_name, f\"imagem_{i + 1}.jpg\")\n",
    "\n",
    "        # Salvar a imagem\n",
    "        with open(filename, \"wb\") as img_file:\n",
    "            for chunk in response.iter_content(1024):\n",
    "                img_file.write(chunk)\n",
    "\n",
    "        print(f\"Imagem {i + 1} baixada com sucesso: {filename}\")\n",
    "\n",
    "    except requests.exceptions.RequestException as e:\n",
    "        print(f\"Erro ao baixar {url}: {e}\")\n",
    "\n",
    "print(\"Download concluído!\")"
   ]
  }
 ],
 "metadata": {
  "language_info": {
   "name": "python"
  }
 },
 "nbformat": 4,
 "nbformat_minor": 2
}
